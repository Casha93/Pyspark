{
 "cells": [
  {
   "cell_type": "code",
   "execution_count": null,
   "id": "7da2b66e-f254-4235-b601-cc84a1380e15",
   "metadata": {},
   "outputs": [],
   "source": [
    "from pyspark.sql import SparkSession\n",
    "from pyspark.sql.functions import col, collect_set, lit"
   ]
  },
  {
   "cell_type": "code",
   "execution_count": null,
   "id": "ff4e2ad9-bd18-44c9-bdfa-72a45b9ac91c",
   "metadata": {},
   "outputs": [],
   "source": [
    "spark = SparkSession.builder.appName(\"product_categories\").getOrCreate()"
   ]
  },
  {
   "cell_type": "code",
   "execution_count": null,
   "id": "f6c93921-0bf0-4b63-8220-65e2ceaaa3bb",
   "metadata": {},
   "outputs": [],
   "source": [
    "# DataFrame с продуктами\n",
    "products = spark.createDataFrame(\n",
    "    [\n",
    "        (0, \"Product A\"),\n",
    "        (1, \"Product B\"),\n",
    "        (2, \"Product C\"),\n",
    "        (3, \"Product D\")\n",
    "    ],\n",
    "    [\"product_id\", \"product_name\"]\n",
    ")\n",
    "\n",
    "# DataFrame с категориями\n",
    "categories = spark.createDataFrame(\n",
    "    [\n",
    "        (0, \"Category 1\"),\n",
    "        (1, \"Category 2\"),\n",
    "        (2, \"Category 3\"),\n",
    "        (3, \"Category 4\")\n",
    "    ],\n",
    "    [\"category_id\", \"category_name\"]\n",
    ")\n",
    "\n",
    "# DataFrame с связями между продуктами и категориями\n",
    "product_categories = spark.createDataFrame(\n",
    "    [\n",
    "        (0, 0),\n",
    "        (0, 1),\n",
    "        (1, 2),\n",
    "        (1, 3),\n",
    "        (2, 0),\n",
    "        (2, 2)\n",
    "    ],\n",
    "    [\"product_id\", \"category_id\"]\n",
    ")"
   ]
  },
  {
   "cell_type": "code",
   "execution_count": null,
   "id": "360fc1ed-b7c3-479e-8d57-1296770b0c2d",
   "metadata": {},
   "outputs": [],
   "source": [
    "#   Метод для получения всех пар \"Имя продукта - Имя категории\"\n",
    "#    и имен продуктов без категорий.\n",
    "def get_product_categories(products, categories, product_categories):\n",
    "    # Объединяем DataFrame с продуктами и категориями\n",
    "    joined_df = products.join(\n",
    "        product_categories,\n",
    "        products.product_id == product_categories.product_id,\n",
    "        \"left\"\n",
    "    ).join(\n",
    "        categories,\n",
    "        product_categories.category_id == categories.category_id,\n",
    "        \"left\"\n",
    "    )\n",
    "\n",
    "    # Собираем все категории для каждого продукта\n",
    "    product_categories_df = joined_df.groupby(\"product_name\").agg(collect_set(\"category_name\").alias(\"categories\"))\n",
    "\n",
    "    # Фильтруем продукты без категорий\n",
    "    products_without_categories = products.join(\n",
    "        product_categories_df,\n",
    "        products.product_name == product_categories_df.product_name,\n",
    "        \"leftanti\"\n",
    "    ).select(\"product_name\")\n",
    "\n",
    "    # Создаем отдельные DataFrame для продуктов с категориями и без\n",
    "    with_categories_df = product_categories_df.selectExpr(\"product_name\", \"explode(categories) as category_name\")\n",
    "    without_categories_df = products_without_categories.withColumn(\"category_name\", lit(None))\n",
    "\n",
    "    # Объединяем DataFrame с продуктами с категориями и без\n",
    "    result_df = with_categories_df.union(without_categories_df)\n",
    "\n",
    "    return result_df"
   ]
  },
  {
   "cell_type": "code",
   "execution_count": null,
   "id": "36f9aa19-49c9-4fa8-b91b-6f459def005b",
   "metadata": {},
   "outputs": [],
   "source": [
    "result_df = get_product_categories(products, categories, product_categories)\n",
    "result_df.show()"
   ]
  },
  {
   "cell_type": "code",
   "execution_count": null,
   "id": "1f3ce7cd-8d28-450e-8926-eb0243711da2",
   "metadata": {},
   "outputs": [],
   "source": [
    "spark.stop()"
   ]
  },
  {
   "cell_type": "code",
   "execution_count": null,
   "id": "f2c81e8e-ca6e-4ad8-a524-a4d92dcd0084",
   "metadata": {},
   "outputs": [],
   "source": []
  },
  {
   "cell_type": "code",
   "execution_count": null,
   "id": "6dcff848-082c-4436-a966-fd773844f68e",
   "metadata": {},
   "outputs": [],
   "source": []
  },
  {
   "cell_type": "code",
   "execution_count": null,
   "id": "d23befd0-a7f1-4e2e-9fd0-b87ce1eda82f",
   "metadata": {},
   "outputs": [],
   "source": []
  }
 ],
 "metadata": {
  "kernelspec": {
   "display_name": "Python 3 (ipykernel)",
   "language": "python",
   "name": "python3"
  },
  "language_info": {
   "codemirror_mode": {
    "name": "ipython",
    "version": 3
   },
   "file_extension": ".py",
   "mimetype": "text/x-python",
   "name": "python",
   "nbconvert_exporter": "python",
   "pygments_lexer": "ipython3",
   "version": "3.12.4"
  }
 },
 "nbformat": 4,
 "nbformat_minor": 5
}
